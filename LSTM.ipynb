{
 "cells": [
  {
   "cell_type": "code",
   "execution_count": 28,
   "metadata": {},
   "outputs": [],
   "source": [
    "import numpy as np"
   ]
  },
  {
   "attachments": {},
   "cell_type": "markdown",
   "metadata": {},
   "source": [
    "## Theory"
   ]
  },
  {
   "attachments": {},
   "cell_type": "markdown",
   "metadata": {},
   "source": [
    "### Formula\n",
    "$$f_t = δ(W_f[h_{t-1},x_t]+b_f) $$\n",
    "$$i_t = δ(W_i[h_{t-1},x_t]+b_i) $$\n",
    "$$\\tilde{C}_t = tanh(W_c[h_{t-1},x_t]+b_C)$$\n",
    "$$C_t = f_t * C_{t-1} + i_t*\\tilde{C}_t$$\n",
    "$$o_t = δ(W_o[h_{t-1},x_t]+b_o) $$\n",
    "$$h_t = o_t * tanh(C_t)$$\n",
    "$$Loss: L = (h_t-y)^2$$"
   ]
  },
  {
   "attachments": {},
   "cell_type": "markdown",
   "metadata": {},
   "source": [
    "### Backward\n",
    "$$\\frac{d_{L}}{d_{h_t}} = h_t - y$$\n",
    "$$\\frac{d_{L}}{d_{o_t}} = \\frac{d_{L}}{d_{h_t}}tanh(C_t)$$\n",
    "$$\\frac{d_{L}}{d_{C_t}} =\\frac{d_{L}}{d_{h_t}} o_t * (1-tanh(C_t)^2)$$\n",
    "$$\\frac{d_{L}}{d_{f_t}} = \\frac{d_{L}}{d_{C_t}} \\frac{C_t}{d_{f_t}} = \\frac{d_{L}}{d_{C_t}} C_{t-1}$$\n",
    "$$\\frac{d_{L}}{d_{i_t}} = \\frac{d_{L}}{d_{C_t}} \\frac{C_t}{d_{i_t}} =  \\frac{d_{L}}{d_{C_t}} \\tilde{C}_t$$\n",
    "$$\\frac{d_L}{d_{\\tilde{C}_t}} = \\frac{d_{L}}{d_{C_t}} \\frac{C_t}{d_{\\tilde{C}_t}} = \\frac{d_{L}}{d_{C_t}} i_t $$\n",
    "$$\\frac{d_{L}}{d_{W_o}} = \\frac{d_{L}}{d_{o_t}} \\frac{o_t}{d_{W_o}} = \\frac{d_{L}}{d_{o_t}} o_t (1-o_t) [h_{t-1},x_t]$$\n",
    "$$\\frac{d_{L}}{d_{W_f}} = \\frac{d_{L}}{d_{f_t}} \\frac{f_t}{d_{W_f}} = \\frac{d_{L}}{d_{i_t}} f_t (1-f_t) [h_{t-1},x_t]$$\n",
    "$$\\frac{d_{L}}{d_{W_i}} = \\frac{d_{L}}{d_{i_t}} \\frac{i_t}{d_{W_i}} = \\frac{d_{L}}{d_{i_t}} i_t (1-i_t) [h_{t-1},x_t]$$\n",
    "$$\\frac{d_{L}}{d_{W_c}} = \\frac{d_{L}}{\\tilde{C}_t} \\frac{\\tilde{C}_t}{d_{W_c}} = \\frac{d_{L}}{\\tilde{C}_t} \\tilde{C}_t(1-\\tilde{C}_t) [h_{t-1},x_t]$$\n",
    "\n",
    "$$\\frac{d_{L}}{d_{b_o}} = \\frac{d_{L}}{d_{o_t}} \\frac{o_t}{d_{W_o}} = \\frac{d_{L}}{d_{o_t}} o_t (1-o_t)\\$$\n",
    "$$\\frac{d_{L}}{d_{b_f}} = \\frac{d_{L}}{d_{f_t}} \\frac{f_t}{d_{W_f}} = \\frac{d_{L}}{d_{i_t}} f_t (1-f_t)$$\n",
    "$$\\frac{d_{L}}{d_{b_i}} = \\frac{d_{L}}{d_{i_t}} \\frac{i_t}{d_{W_i}} = \\frac{d_{L}}{d_{i_t}} i_t (1-i_t)$$\n",
    "$$\\frac{d_{L}}{d_{b_c}} = \\frac{d_{L}}{\\tilde{C}_t} \\frac{\\tilde{C}_t}{d_{W_c}} = \\frac{d_{L}}{\\tilde{C}_t} \\tilde{C}_t(1-\\tilde{C}_t)\n",
    "\n",
    "\n"
   ]
  },
  {
   "attachments": {},
   "cell_type": "markdown",
   "metadata": {},
   "source": [
    "### Shape:\n",
    "#### N_in: num-features-in\n",
    "#### N_out: num-features-out\n",
    "#### N_t: num-timesteps\n",
    "$$x:  (N_t,N_i).$$\n",
    "$$y: (N_t,N_o).$$\n",
    "$$h: (N_t,N_o).$$\n",
    "$$C: (N_t,N_o).$$\n",
    "$$f,i,o: (N_t,N_o).$$\n",
    "$$W_f,W_i,W_o,W_C: (N_i+N_o,N_o)$$\n",
    "$$b_f,b_i,b_o,b_c: (1,N_o)$$\n"
   ]
  },
  {
   "attachments": {},
   "cell_type": "markdown",
   "metadata": {},
   "source": [
    "## Implementation"
   ]
  },
  {
   "cell_type": "code",
   "execution_count": 29,
   "metadata": {},
   "outputs": [],
   "source": [
    "def sigmoid(x):\n",
    "    return 1 / (1 + np.e**x)"
   ]
  },
  {
   "cell_type": "code",
   "execution_count": 45,
   "metadata": {},
   "outputs": [],
   "source": [
    "def forward(X,C_t,h_t,W_f,W_i,W_o,W_C,b_f,b_i,b_o,b_C):\n",
    "    f_t = sigmoid(np.concatenate([h_t.T,X.T]).T.dot(W_f) + b_f)\n",
    "    i_t = sigmoid(np.concatenate([h_t.T,X.T]).T.dot(W_i) + b_i)\n",
    "    C_candidate = np.tanh(np.concatenate([h_t.T,X.T]).T.dot(W_C) + b_C)\n",
    "    C_new = np.multiply(f_t,C_t) + np.multiply(i_t,C_candidate)\n",
    "    o_t = sigmoid(np.concatenate([h_t.T,X.T]).T.dot(W_o)+b_o)\n",
    "    h_new = np.multiply(o_t,np.tanh(C_new))\n",
    "    return C_new,h_new,f_t,i_t,o_t,C_candidate"
   ]
  },
  {
   "cell_type": "code",
   "execution_count": 46,
   "metadata": {},
   "outputs": [],
   "source": [
    "def backward(X,y,C_new,h_new,f_t,i_t,o_t,C_candidate,C_t,h_t,W_f,W_i,W_o,W_C,b_f,b_i,b_o,b_C,lr):\n",
    "    # Calculate gradient\n",
    "    dL_dh = h_new - y\n",
    "    dL_do = np.multiply(dL_dh,np.tanh(C_new))\n",
    "    dL_dC = np.multiply(dL_dh,np.multiply(o_t,1-np.tanh(C_new)**2))\n",
    "    dL_df = np.multiply(dL_dC,C_t)\n",
    "    dL_di = np.multiply(dL_dC,C_candidate) \n",
    "    dL_dCc = np.multiply(dL_dC,i_t)\n",
    "\n",
    "    dL_dWo = np.concatenate([h_t.T,X.T]).dot(np.multiply(dL_do,np.multiply(o_t,1-o_t)))\n",
    "    dL_dWi = np.concatenate([h_t.T,X.T]).dot(np.multiply(dL_di,np.multiply(i_t,1-i_t)))\n",
    "    dL_dWf = np.concatenate([h_t.T,X.T]).dot(np.multiply(dL_df,np.multiply(f_t,1-f_t)))\n",
    "    dL_dWc = np.concatenate([h_t.T,X.T]).dot(np.multiply(dL_dCc,np.multiply(C_candidate,1-C_candidate)))\n",
    "\n",
    "    dL_dbo = np.mean(np.multiply(dL_do,np.multiply(o_t,1-o_t)),axis=0)\n",
    "    dL_dbi = np.mean(np.multiply(dL_di,np.multiply(i_t,1-i_t)),axis=0)\n",
    "    dL_dbf = np.mean(np.multiply(dL_df,np.multiply(f_t,1-f_t)),axis=0)\n",
    "    dL_dbc = np.mean(np.multiply(dL_dCc,np.multiply(C_candidate,1-C_candidate)),axis=0)\n",
    "\n",
    "    #Update weights and biases\n",
    "    W_f = W_f - lr * dL_dWf\n",
    "    W_i = W_i - lr * dL_dWi\n",
    "    W_o = W_o - lr * dL_dWo\n",
    "    W_C = W_C - lr * dL_dWc\n",
    "\n",
    "    b_f = b_f - lr * dL_dbf\n",
    "    b_i = b_i - lr * dL_dbi\n",
    "    b_o = b_o - lr * dL_dbo\n",
    "    b_C = b_C - lr * dL_dbc\n",
    "    \n",
    "    return W_f,W_i,W_o,W_C,b_f,b_i,b_o,b_C"
   ]
  }
 ],
 "metadata": {
  "kernelspec": {
   "display_name": "pytorchenv",
   "language": "python",
   "name": "python3"
  },
  "language_info": {
   "codemirror_mode": {
    "name": "ipython",
    "version": 3
   },
   "file_extension": ".py",
   "mimetype": "text/x-python",
   "name": "python",
   "nbconvert_exporter": "python",
   "pygments_lexer": "ipython3",
   "version": "3.9.15"
  },
  "orig_nbformat": 4,
  "vscode": {
   "interpreter": {
    "hash": "5581cd8f8e7f555d1c7b7d5c73b743c62e9c35962a29bf47b3ccdfb22fa58433"
   }
  }
 },
 "nbformat": 4,
 "nbformat_minor": 2
}
