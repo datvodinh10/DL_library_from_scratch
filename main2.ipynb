{
 "cells": [
  {
   "cell_type": "code",
   "execution_count": 278,
   "metadata": {},
   "outputs": [],
   "source": [
    "from lib import LSTM\n",
    "import numpy as np"
   ]
  },
  {
   "cell_type": "code",
   "execution_count": 279,
   "metadata": {},
   "outputs": [],
   "source": [
    "n_in = 4\n",
    "n_out = 1\n",
    "n_t = 3\n",
    "n_h = 64\n",
    "X = np.array([[1,2,3,4],[2,3,4,5],[3,4,5,6]])\n",
    "y = np.array(([[5,6,7]])).reshape(-1,1)\n",
    "C,h = [np.zeros((n_t,n_h))]*2\n",
    "W_i,W_o,W_f,W_C = [np.random.randn(n_in+n_h,n_h)] * 4\n",
    "b_i,b_o,b_f,b_C = [np.zeros((1,n_out))] * 4\n",
    "W_z = np.random.randn(n_h,n_out)\n",
    "b_z = np.zeros((1,n_out))"
   ]
  },
  {
   "cell_type": "code",
   "execution_count": 280,
   "metadata": {},
   "outputs": [],
   "source": [
    "for _ in range(20000):\n",
    "    C,h,f_t,i_t,o_t,C_candidate,y_pred = LSTM.forward(X,C,h,W_f,W_i,W_o,W_C,W_z,b_f,b_i,b_o,b_C,b_z)\n",
    "    W_f,W_i,W_o,W_C,W_z,b_f,b_i,b_o,b_C,b_z = LSTM.backward(X,y,y_pred,C,h,f_t,i_t,o_t,C_candidate,C,h,W_f,W_i,W_o,W_C,W_z,b_f,b_i,b_o,b_C,b_z,lr=1e-2)"
   ]
  },
  {
   "cell_type": "code",
   "execution_count": 281,
   "metadata": {},
   "outputs": [
    {
     "data": {
      "text/plain": [
       "array([[5.],\n",
       "       [6.],\n",
       "       [7.]])"
      ]
     },
     "execution_count": 281,
     "metadata": {},
     "output_type": "execute_result"
    }
   ],
   "source": [
    "LSTM.forward(X,C,h,W_f,W_i,W_o,W_C,W_z,b_f,b_i,b_o,b_C,b_z)[-1]"
   ]
  },
  {
   "cell_type": "code",
   "execution_count": 282,
   "metadata": {},
   "outputs": [
    {
     "data": {
      "text/plain": [
       "array([[5],\n",
       "       [6],\n",
       "       [7]])"
      ]
     },
     "execution_count": 282,
     "metadata": {},
     "output_type": "execute_result"
    }
   ],
   "source": [
    "y"
   ]
  },
  {
   "cell_type": "code",
   "execution_count": null,
   "metadata": {},
   "outputs": [],
   "source": []
  }
 ],
 "metadata": {
  "kernelspec": {
   "display_name": "pytorchenv",
   "language": "python",
   "name": "python3"
  },
  "language_info": {
   "codemirror_mode": {
    "name": "ipython",
    "version": 3
   },
   "file_extension": ".py",
   "mimetype": "text/x-python",
   "name": "python",
   "nbconvert_exporter": "python",
   "pygments_lexer": "ipython3",
   "version": "3.9.15"
  },
  "orig_nbformat": 4
 },
 "nbformat": 4,
 "nbformat_minor": 2
}
