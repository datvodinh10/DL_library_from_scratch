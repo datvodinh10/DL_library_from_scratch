{
 "cells": [
  {
   "cell_type": "code",
   "execution_count": 4,
   "metadata": {},
   "outputs": [],
   "source": [
    "from lib.NeuralNet import *\n",
    "from lib.Optimizer import UpdateParamsAdam"
   ]
  },
  {
   "cell_type": "code",
   "execution_count": 5,
   "metadata": {},
   "outputs": [
    {
     "name": "stdout",
     "output_type": "stream",
     "text": [
      "Epoch  0 Loss:  0.08511019551061502\n",
      "Epoch  50 Loss:  0.05335146355609445\n",
      "Epoch  100 Loss:  0.02773705549998517\n",
      "Epoch  150 Loss:  0.014919916665629408\n",
      "Epoch  200 Loss:  0.006831649232610667\n",
      "Epoch  250 Loss:  0.006049210544023379\n",
      "Epoch  300 Loss:  0.0038329320432061273\n",
      "Epoch  350 Loss:  0.0038737859416404044\n",
      "Epoch  400 Loss:  0.0028210897853134464\n",
      "Epoch  450 Loss:  0.0022798109696045422\n",
      "Epoch  500 Loss:  0.001935071795944262\n",
      "Epoch  550 Loss:  0.0017556108215542718\n",
      "Epoch  600 Loss:  0.0011988342246808698\n",
      "Epoch  650 Loss:  0.0015841795939574084\n",
      "Epoch  700 Loss:  0.00137888069376637\n",
      "Epoch  750 Loss:  0.0010030917594360338\n",
      "Epoch  800 Loss:  0.0017415181169827007\n",
      "Epoch  850 Loss:  0.0013476953643571652\n",
      "Epoch  900 Loss:  0.0009426442551701863\n",
      "Epoch  950 Loss:  0.001090098154664576\n"
     ]
    }
   ],
   "source": [
    "X = np.random.rand(5000,100)\n",
    "y = np.random.rand(5000,1)\n",
    "W1,b1,W2,b2,W3,b3 = FitModel(X,y,n_iter=1000,batch_size=500,lr=1e-3,UpdateParams=UpdateParamsAdam,print_stat=True)"
   ]
  }
 ],
 "metadata": {
  "kernelspec": {
   "display_name": "pytorchenv",
   "language": "python",
   "name": "python3"
  },
  "language_info": {
   "codemirror_mode": {
    "name": "ipython",
    "version": 3
   },
   "file_extension": ".py",
   "mimetype": "text/x-python",
   "name": "python",
   "nbconvert_exporter": "python",
   "pygments_lexer": "ipython3",
   "version": "3.9.15"
  },
  "orig_nbformat": 4
 },
 "nbformat": 4,
 "nbformat_minor": 2
}
