{
 "cells": [
  {
   "cell_type": "code",
   "execution_count": 10,
   "metadata": {},
   "outputs": [],
   "source": [
    "import numpy as np"
   ]
  },
  {
   "attachments": {},
   "cell_type": "markdown",
   "metadata": {},
   "source": [
    "## Formula"
   ]
  },
  {
   "attachments": {},
   "cell_type": "markdown",
   "metadata": {},
   "source": [
    "$$ v_t = {\\beta}_{1} v_{t-1} + (1 - {\\beta}_{1})g_t$$\n",
    "$$ s_t = s_{t-1} + (1 - {\\beta}_{2})g_t^2 \\odot sgn(g_t^2 - s_{t-1})$$\n",
    "$$\\hat{v}_{t} = \\frac{v_t}{1-{\\beta}_{1}^t} \\; and \\; \\hat{s}_{t} = \\frac{s_t}{1-{\\beta}_{2}^t}$$\n",
    "$$ {g}_t' = \\frac {\\eta \\hat{v}_t}{\\sqrt{\\hat{s}_t}+\\epsilon}$$\n",
    "$$  x_t\\leftarrow x_{t-1} - {g}_t'$$\n",
    "$$"
   ]
  },
  {
   "cell_type": "code",
   "execution_count": 11,
   "metadata": {},
   "outputs": [],
   "source": [
    "from lib.NeuralNet import *"
   ]
  },
  {
   "cell_type": "code",
   "execution_count": 15,
   "metadata": {},
   "outputs": [],
   "source": [
    "def OptimizerYogi(W1,b1,W2,b2,W3,b3,dW1,dB1,dW2,dB2,dW3,dB3,vW1,vb1,vW2,vb2,vW3,vb3,sW1,sb1,sW2,sb2,sW3,sb3,lr,beta1,beta2,t):\n",
    "    momentum = [vW1,vb1,vW2,vb2,vW3,vb3]\n",
    "    second_momen = [sW1,sb1,sW2,sb2,sW3,sb3]\n",
    "    gradient = [dW1,dB1,dW2,dB2,dW3,dB3]\n",
    "    params = [W1,b1,W2,b2,W3,b3]\n",
    "    for i in range(6):\n",
    "        momentum[i] = beta1 * momentum[i] + (1-beta1) * gradient[i]\n",
    "        g_t2 = np.multiply(gradient[i],gradient[i])\n",
    "        second_momen[i] = second_momen[i] + (1-beta2) * np.multiply(g_t2,np.sign(g_t2-second_momen[i]))\n",
    "        v_hat = momentum[i] / (1 - beta1**t)\n",
    "        s_hat = second_momen[i] / (1 - beta2**t)\n",
    "        g_t = np.multiply(lr * v_hat,1 / (np.sqrt(s_hat)+1e-6))\n",
    "        params[i] = params[i] - g_t\n",
    "    W1,b1,W2,b2,W3,b3 = params\n",
    "    vW1,vb1,vW2,vb2,vW3,vb3 = momentum\n",
    "    sW1,sb1,sW2,sb2,sW3,sb3 = second_momen\n",
    "    return W1,b1,W2,b2,W3,b3,vW1,vb1,vW2,vb2,vW3,vb3,sW1,sb1,sW2,sb2,sW3,sb3\n",
    "        \n",
    "def Yogi(W1,b1,W2,b2,W3,b3,S,Y,batch_size=16,lr=1e-4,beta1=0.9,beta2=0.999,epoch=0):\n",
    "    n_samples = S.shape[0]\n",
    "    idx = np.arange(n_samples)\n",
    "    np.random.shuffle(idx)\n",
    "    S,Y = S[idx],Y[idx]\n",
    "    vW1,vb1,vW2,vb2,vW3,vb3 = np.zeros_like(W1),np.zeros_like(b1),np.zeros_like(W2),np.zeros_like(b2),np.zeros_like(W3),np.zeros_like(b3)\n",
    "    sW1,sb1,sW2,sb2,sW3,sb3 = np.zeros_like(W1),np.zeros_like(b1),np.zeros_like(W2),np.zeros_like(b2),np.zeros_like(W3),np.zeros_like(b3)\n",
    "    t = 1\n",
    "    for i in np.arange(0, n_samples, batch_size):\n",
    "        begin, end = i, min(i + batch_size, n_samples)\n",
    "        s,y =  S[begin:end] , Y[begin:end]\n",
    "        O1,O2,O3 = Forward(W1,b1,W2,b2,W3,b3,s)\n",
    "        dW1,dB1,dW2,dB2,dW3,dB3 = Backward(W1,b1,W2,b2,W3,b3,s,y,O1,O2,O3,lr)\n",
    "        W1,b1,W2,b2,W3,b3,vW1,vb1,vW2,vb2,vW3,vb3,sW1,sb1,sW2,sb2,sW3,sb3 = OptimizerYogi(W1,b1,W2,b2,W3,b3,dW1,dB1,dW2,dB2,dW3,dB3,vW1,vb1,vW2,vb2,vW3,vb3,sW1,sb1,sW2,sb2,sW3,sb3,lr,beta1,beta2,t)\n",
    "        t+=1\n",
    "    return W1,b1,W2,b2,W3,b3"
   ]
  },
  {
   "cell_type": "code",
   "execution_count": 16,
   "metadata": {},
   "outputs": [
    {
     "name": "stdout",
     "output_type": "stream",
     "text": [
      "| TIME:     0.15s | EPOCH:     1 | LOSS: 0.08286309 |\n",
      "| TIME:     5.46s | EPOCH:    50 | LOSS: 0.05107700 |\n",
      "| TIME:    10.73s | EPOCH:   100 | LOSS: 0.03482587 |\n",
      "| TIME:    15.89s | EPOCH:   150 | LOSS: 0.01660029 |\n",
      "| TIME:    20.96s | EPOCH:   200 | LOSS: 0.00734560 |\n",
      "| TIME:    26.12s | EPOCH:   250 | LOSS: 0.00567103 |\n",
      "| TIME:    31.39s | EPOCH:   300 | LOSS: 0.00414387 |\n",
      "| TIME:    36.68s | EPOCH:   350 | LOSS: 0.00331146 |\n",
      "| TIME:    42.25s | EPOCH:   400 | LOSS: 0.00226626 |\n",
      "| TIME:    47.84s | EPOCH:   450 | LOSS: 0.00227848 |\n",
      "| TIME:    53.44s | EPOCH:   500 | LOSS: 0.00245407 |\n",
      "| TIME:    59.08s | EPOCH:   550 | LOSS: 0.00123224 |\n",
      "| TIME:    64.54s | EPOCH:   600 | LOSS: 0.00143913 |\n",
      "| TIME:    70.05s | EPOCH:   650 | LOSS: 0.00164789 |\n",
      "| TIME:    75.72s | EPOCH:   700 | LOSS: 0.00106642 |\n",
      "| TIME:    80.85s | EPOCH:   750 | LOSS: 0.00106187 |\n",
      "| TIME:    85.87s | EPOCH:   800 | LOSS: 0.00115584 |\n",
      "| TIME:    90.94s | EPOCH:   850 | LOSS: 0.00105746 |\n",
      "| TIME:    96.08s | EPOCH:   900 | LOSS: 0.00105301 |\n",
      "| TIME:   101.36s | EPOCH:   950 | LOSS: 0.00077707 |\n",
      "| TIME:   106.69s | EPOCH:  1000 | LOSS: 0.00086638 |\n"
     ]
    },
    {
     "data": {
      "image/png": "[encoded data removed]",
      "text/plain": [
       "<Figure size 720x432 with 1 Axes>"
      ]
     },
     "metadata": {
      "needs_background": "light"
     },
     "output_type": "display_data"
    }
   ],
   "source": [
    "X = np.random.rand(5000,100)\n",
    "y = np.random.rand(5000,1)\n",
    "W1,b1,W2,b2,W3,b3 = FitModel(X,y,n_iter=1000,batch_size=500,lr=1e-3,update=Yogi,print_stat=True)"
   ]
  }
 ],
 "metadata": {
  "kernelspec": {
   "display_name": "pytorchenv",
   "language": "python",
   "name": "python3"
  },
  "language_info": {
   "codemirror_mode": {
    "name": "ipython",
    "version": 3
   },
   "file_extension": ".py",
   "mimetype": "text/x-python",
   "name": "python",
   "nbconvert_exporter": "python",
   "pygments_lexer": "ipython3",
   "version": "3.9.15"
  },
  "orig_nbformat": 4
 },
 "nbformat": 4,
 "nbformat_minor": 2
}
