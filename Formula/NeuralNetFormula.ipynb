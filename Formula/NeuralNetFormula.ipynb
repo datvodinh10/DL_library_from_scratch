{
 "cells": [
  {
   "cell_type": "code",
   "execution_count": 6,
   "metadata": {},
   "outputs": [],
   "source": [
    "import numpy as np"
   ]
  },
  {
   "attachments": {},
   "cell_type": "markdown",
   "metadata": {},
   "source": [
    "## Formula"
   ]
  },
  {
   "attachments": {},
   "cell_type": "markdown",
   "metadata": {},
   "source": [
    "** Forward propagation **\n",
    "$$O^{[1]} = W1^{[1]}State + B^{[1]}$$\n",
    "$$G^{[1]} = {f_\\text{ReLU}}(O^{[1]})$$\n",
    "$$O^{[2]} = W^{[2]}G^{[1]} + B^{[2]}$$\n",
    "$$G^{[2]} = {f_\\text{ReLU}}(O^{[2]})$$\n",
    "$$O^{[3]} = W^{[3]} G^{[2]} + B^{[3]}$$\n",
    "$$Loss = (Y-O^{[3]})^{2}$$"
   ]
  },
  {
   "attachments": {},
   "cell_type": "markdown",
   "metadata": {},
   "source": [
    "**Shape**\n",
    "$$\\frac{d_\\text{L}}{{d_\\text{O3}}}: A * 1$$\n",
    "$$\\frac{d_\\text{L}}{{d_\\text{W3}}}: A * 128$$\n",
    "$$\\frac{d_\\text{L}}{{d_\\text{B3}}}: A * 1$$\n",
    "$$\\frac{d_\\text{L}}{{d_\\text{G2}}}: 128 * 1$$\n",
    "$$\\frac{d_\\text{L}}{{d_\\text{W2}}}: 128 * 128$$"
   ]
  },
  {
   "attachments": {},
   "cell_type": "markdown",
   "metadata": {},
   "source": [
    "**Backpropagation**\n",
    "$$\\frac{d_\\text{L}}{{d_\\text{O3}}} = 2(O^{[3]}-Y)$$\n",
    "$$\\frac{d_\\text{L}}{{d_\\text{W3}}} = \\frac{d_\\text{L}}{{d_\\text{O3}}} \\frac{d_\\text{O3}}{{d_\\text{W3}}} = \\frac{d_\\text{L}}{{d_\\text{O3}}} G^{[2]T} {(*)}$$\n",
    "$$\\frac{d_\\text{L}}{{d_\\text{B3}}} = \\frac{d_\\text{L}}{{d_\\text{O3}}} \\frac{d_\\text{O3}}{{d_\\text{B3}}} = \\frac{d_\\text{L}}{{d_\\text{O3}}} 1^{T} {(*)}$$\n",
    "$$\\frac{d_\\text{L}}{{d_\\text{G2}}} = \\frac{d_\\text{L}}{{d_\\text{O3}}} \\frac{d_\\text{O3}}{{d_\\text{G2}}} = W^{[3]T} \\frac{d_\\text{L}}{{d_\\text{O3}}}$$\n",
    "$$\\frac{d_\\text{L}}{{d_\\text{W2}}} = \\frac{d_\\text{L}}{{d_\\text{G2}}} \\frac{d_\\text{G2}}{{d_\\text{O2}}}\\frac{d_\\text{O2}}{{d_\\text{W2}}} = \\frac{d_\\text{L}}{{d_\\text{G2}}} * {(O^{[2]}>0)} * {G^{[1]T}} {(*)}$$\n",
    "$$\\frac{d_\\text{L}}{{d_\\text{B2}}} = \\frac{d_\\text{L}}{{d_\\text{G2}}} \\frac{d_\\text{G2}}{{d_\\text{O2}}}\\frac{d_\\text{O2}}{{d_\\text{B2}}} = \\frac{d_\\text{L}}{{d_\\text{G2}}} * {(O^{[2]}>0)} * {1^{[1]T}} {(*)}$$\n",
    "$$\\frac{d_\\text{L}}{{d_\\text{G1}}} = \\frac{d_\\text{L}}{{d_\\text{G2}}} \\frac{d_\\text{G2}}{{d_\\text{O2}}}\\frac{d_\\text{O2}}{{d_\\text{G1}}} ={W^{[2]T}}*\\frac{d_\\text{L}}{{d_\\text{G2}}}*{(O^{[2]}>0)} $$\n",
    "$$\\frac{d_\\text{L}}{{d_\\text{W1}}} = \\frac{d_\\text{L}}{{d_\\text{G1}}} \\frac{d_\\text{G1}}{{d_\\text{O1}}} \\frac{d_\\text{O1}}{{d_\\text{W1}}} = \\frac{d_\\text{L}}{{d_\\text{G1}}} * {(O^{[1]}>0)} * State^{T} {(*)} $$\n",
    "$$\\frac{d_\\text{L}}{{d_\\text{B1}}} = \\frac{d_\\text{L}}{{d_\\text{G1}}} \\frac{d_\\text{G1}}{{d_\\text{O1}}} \\frac{d_\\text{O1}}{{d_\\text{B1}}} = \\frac{d_\\text{L}}{{d_\\text{G1}}} * {(O^{[1]}>0)} * 1^{T} {(*)} $$\n"
   ]
  }
 ],
 "metadata": {
  "kernelspec": {
   "display_name": "gymenv",
   "language": "python",
   "name": "python3"
  },
  "language_info": {
   "codemirror_mode": {
    "name": "ipython",
    "version": 3
   },
   "file_extension": ".py",
   "mimetype": "text/x-python",
   "name": "python",
   "nbconvert_exporter": "python",
   "pygments_lexer": "ipython3",
   "version": "3.9.15"
  },
  "orig_nbformat": 4
 },
 "nbformat": 4,
 "nbformat_minor": 2
}
