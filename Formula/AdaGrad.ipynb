{
 "cells": [
  {
   "cell_type": "code",
   "execution_count": 14,
   "metadata": {},
   "outputs": [],
   "source": [
    "import numpy as np"
   ]
  },
  {
   "attachments": {},
   "cell_type": "markdown",
   "metadata": {},
   "source": [
    "## Formula"
   ]
  },
  {
   "attachments": {},
   "cell_type": "markdown",
   "metadata": {},
   "source": [
    "$$g_t = {\\delta}_w l(y_t,f(x_t,w))$$\n",
    "$$s_t = s_{t-1} + g_t^2$$\n",
    "$$w_t = w_{t-1} - \\frac{\\eta}{\\sqrt{s_t+\\epsilon}}g_t"
   ]
  },
  {
   "cell_type": "code",
   "execution_count": 15,
   "metadata": {},
   "outputs": [],
   "source": [
    "from lib.NeuralNet import *"
   ]
  },
  {
   "cell_type": "code",
   "execution_count": 16,
   "metadata": {},
   "outputs": [],
   "source": [
    "def OptimizerAdaGrad(W1,b1,W2,b2,W3,b3,dW1,dB1,dW2,dB2,dW3,dB3,sW1,sb1,sW2,sb2,sW3,sb3,lr):\n",
    "    params = [W1,b1,W2,b2,W3,b3]\n",
    "    gradient = [dW1,dB1,dW2,dB2,dW3,dB3]\n",
    "    squared_grad = [sW1,sb1,sW2,sb2,sW3,sb3]\n",
    "    for i in range(6):\n",
    "        squared_grad[i] = squared_grad[i] + np.multiply(gradient[i],gradient[i])\n",
    "        params[i] = params[i] - lr / np.sqrt(squared_grad[i]+ 1e-5) * gradient[i]\n",
    "\n",
    "    W1,b1,W2,b2,W3,b3 = params\n",
    "    sW1,sb1,sW2,sb2,sW3,sb3 = squared_grad\n",
    "    return W1,b1,W2,b2,W3,b3, sW1,sb1,sW2,sb2,sW3,sb3\n",
    "        \n",
    "def UpdateParamsAdaGrad(W1,b1,W2,b2,W3,b3,S,Y,batch_size=16,lr=1e-4,beta=0.99):\n",
    "    n_samples = S.shape[0]\n",
    "    idx = np.arange(n_samples)\n",
    "    np.random.shuffle(idx)\n",
    "    S,Y = S[idx],Y[idx]\n",
    "    sW1,sb1,sW2,sb2,sW3,sb3 = np.zeros_like(W1),np.zeros_like(b1),np.zeros_like(W2),np.zeros_like(b2),np.zeros_like(W3),np.zeros_like(b3)\n",
    "    for i in np.arange(0, n_samples, batch_size):\n",
    "        begin, end = i, min(i + batch_size, n_samples)\n",
    "        s,y =  S[begin:end] , Y[begin:end]\n",
    "        O1,O2,O3 = Forward(W1,b1,W2,b2,W3,b3,s)\n",
    "        dW1,dB1,dW2,dB2,dW3,dB3 = Backward(W1,b1,W2,b2,W3,b3,s,y,O1,O2,O3,lr)\n",
    "        W1,b1,W2,b2,W3,b3,sW1,sb1,sW2,sb2,sW3,sb3 = OptimizerAdaGrad(W1,b1,W2,b2,W3,b3,dW1,dB1,dW2,dB2,dW3,dB3,sW1,sb1,sW2,sb2,sW3,sb3,lr)\n",
    "    return W1,b1,W2,b2,W3,b3"
   ]
  },
  {
   "cell_type": "code",
   "execution_count": 19,
   "metadata": {},
   "outputs": [
    {
     "name": "stdout",
     "output_type": "stream",
     "text": [
      "Epoch  0 Loss:  0.22335599292548797\n",
      "Epoch  50 Loss:  0.08125360875943331\n",
      "Epoch  100 Loss:  0.07820076283528643\n",
      "Epoch  150 Loss:  0.07422997897693442\n",
      "Epoch  200 Loss:  0.06913455218309969\n",
      "Epoch  250 Loss:  0.06311183152291652\n",
      "Epoch  300 Loss:  0.05678290393646896\n",
      "Epoch  350 Loss:  0.05097609572261482\n",
      "Epoch  400 Loss:  0.045319206199822056\n",
      "Epoch  450 Loss:  0.04034914232147972\n",
      "Epoch  500 Loss:  0.03619847382581885\n",
      "Epoch  550 Loss:  0.03230047235800544\n",
      "Epoch  600 Loss:  0.028975066548406436\n",
      "Epoch  650 Loss:  0.02595581607071024\n",
      "Epoch  700 Loss:  0.02369597154946737\n",
      "Epoch  750 Loss:  0.021480669179582232\n",
      "Epoch  800 Loss:  0.01908938969362581\n",
      "Epoch  850 Loss:  0.0172144386607314\n",
      "Epoch  900 Loss:  0.015567187090465524\n",
      "Epoch  950 Loss:  0.014025742409451812\n"
     ]
    }
   ],
   "source": [
    "X = np.random.rand(5000,100)\n",
    "y = np.random.rand(5000,1)\n",
    "W1,b1,W2,b2,W3,b3 = FitModel(X,y,n_iter=1000,batch_size=500,lr=1e-4,UpdateParams=UpdateParamsAdaGrad,print_stat=True)"
   ]
  },
  {
   "cell_type": "code",
   "execution_count": null,
   "metadata": {},
   "outputs": [],
   "source": []
  }
 ],
 "metadata": {
  "kernelspec": {
   "display_name": "pytorchenv",
   "language": "python",
   "name": "python3"
  },
  "language_info": {
   "codemirror_mode": {
    "name": "ipython",
    "version": 3
   },
   "file_extension": ".py",
   "mimetype": "text/x-python",
   "name": "python",
   "nbconvert_exporter": "python",
   "pygments_lexer": "ipython3",
   "version": "3.9.15"
  },
  "orig_nbformat": 4
 },
 "nbformat": 4,
 "nbformat_minor": 2
}
