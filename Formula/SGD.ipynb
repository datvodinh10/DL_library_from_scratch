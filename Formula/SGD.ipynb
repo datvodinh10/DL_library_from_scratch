{
 "cells": [
  {
   "cell_type": "code",
   "execution_count": 1,
   "metadata": {},
   "outputs": [],
   "source": [
    "import numpy as np"
   ]
  },
  {
   "attachments": {},
   "cell_type": "markdown",
   "metadata": {},
   "source": [
    "## Formula"
   ]
  },
  {
   "attachments": {},
   "cell_type": "markdown",
   "metadata": {},
   "source": [
    "**Update**\n",
    "$${W^{[3]} = W^{[3]} - \\frac{d_\\text{L}}{{d_\\text{W3}}}}$$\n",
    "$${B^{[3]} = W^{[3]} - \\frac{d_\\text{L}}{{d_\\text{B3}}}}$$\n",
    "$${W^{[2]} = W^{[2]} - \\frac{d_\\text{L}}{{d_\\text{W2}}}}$$\n",
    "$${B^{[2]} = W^{[2]} - \\frac{d_\\text{L}}{{d_\\text{B2}}}}$$\n",
    "$${W^{[1]} = W^{[1]} - \\frac{d_\\text{L}}{{d_\\text{W1}}}}$$\n",
    "$${B^{[1]} = W^{[1]} - \\frac{d_\\text{L}}{{d_\\text{B1}}}}$$"
   ]
  },
  {
   "attachments": {},
   "cell_type": "markdown",
   "metadata": {},
   "source": [
    "## Code"
   ]
  },
  {
   "cell_type": "code",
   "execution_count": 2,
   "metadata": {},
   "outputs": [],
   "source": [
    "from lib.NeuralNet import *"
   ]
  },
  {
   "cell_type": "code",
   "execution_count": 3,
   "metadata": {},
   "outputs": [],
   "source": [
    "def OptimizerSGD(W1,b1,W2,b2,W3,b3,dW1,dB1,dW2,dB2,dW3,dB3,lr):\n",
    "    W1 = W1 - dW1*lr\n",
    "    b1 = b1 - dB1*lr\n",
    "    W2 = W2 - dW2*lr\n",
    "    b2 = b2 - dB2*lr\n",
    "    W3 = W3 - dW3*lr\n",
    "    b3 = b3 - dB3*lr\n",
    "    return W1,b1,W2,b2,W3,b3\n",
    "        \n",
    "def UpdateParamsSGD(W1,b1,W2,b2,W3,b3,S,Y,batch_size=16,lr=1e-4):\n",
    "    n_samples = S.shape[0]\n",
    "    idx = np.arange(n_samples)\n",
    "    np.random.shuffle(idx)\n",
    "    S,Y = S[idx],Y[idx]\n",
    "    for i in np.arange(0, n_samples, batch_size):\n",
    "        begin, end = i, min(i + batch_size, n_samples)\n",
    "        s,y =  S[begin:end] , Y[begin:end]\n",
    "        O1,O2,O3 = Forward(W1,b1,W2,b2,W3,b3,s)\n",
    "        dW1,dB1,dW2,dB2,dW3,dB3 = Backward(W1,b1,W2,b2,W3,b3,s,y,O1,O2,O3,lr)\n",
    "        W1,b1,W2,b2,W3,b3 = OptimizerSGD(W1,b1,W2,b2,W3,b3,dW1,dB1,dW2,dB2,dW3,dB3,lr)\n",
    "    return W1,b1,W2,b2,W3,b3"
   ]
  },
  {
   "cell_type": "code",
   "execution_count": 4,
   "metadata": {},
   "outputs": [
    {
     "name": "stdout",
     "output_type": "stream",
     "text": [
      "Epoch  0 Loss:  0.09140908740124756\n",
      "Epoch  50 Loss:  0.08079169409370388\n",
      "Epoch  100 Loss:  0.0720035959468223\n",
      "Epoch  150 Loss:  0.05963333359629174\n",
      "Epoch  200 Loss:  0.049505691579046794\n",
      "Epoch  250 Loss:  0.0362018947715578\n",
      "Epoch  300 Loss:  0.025461753211172014\n",
      "Epoch  350 Loss:  0.012555516889966978\n",
      "Epoch  400 Loss:  0.01172556075742855\n",
      "Epoch  450 Loss:  0.013538801581761902\n",
      "Epoch  500 Loss:  0.00817781507645911\n",
      "Epoch  550 Loss:  0.0028305112139598103\n",
      "Epoch  600 Loss:  0.004362047031198193\n",
      "Epoch  650 Loss:  0.001783213187727823\n",
      "Epoch  700 Loss:  0.0012259773258908048\n",
      "Epoch  750 Loss:  0.0009708740027558431\n",
      "Epoch  800 Loss:  0.000980571307439978\n",
      "Epoch  850 Loss:  0.00043813210567142694\n",
      "Epoch  900 Loss:  0.0007590641227443106\n",
      "Epoch  950 Loss:  0.00014055222758857505\n"
     ]
    }
   ],
   "source": [
    "X = np.random.rand(5000,100)\n",
    "y = np.random.rand(5000,1)\n",
    "W1,b1,W2,b2,W3,b3 = FitModel(X,y,n_iter=1000,batch_size=500,lr=1e-3,UpdateParams=UpdateParamsSGD,print_stat=True)"
   ]
  }
 ],
 "metadata": {
  "kernelspec": {
   "display_name": "gymenv",
   "language": "python",
   "name": "python3"
  },
  "language_info": {
   "codemirror_mode": {
    "name": "ipython",
    "version": 3
   },
   "file_extension": ".py",
   "mimetype": "text/x-python",
   "name": "python",
   "nbconvert_exporter": "python",
   "pygments_lexer": "ipython3",
   "version": "3.9.15"
  },
  "orig_nbformat": 4
 },
 "nbformat": 4,
 "nbformat_minor": 2
}
