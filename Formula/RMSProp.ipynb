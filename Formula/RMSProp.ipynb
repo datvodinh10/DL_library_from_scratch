{
 "cells": [
  {
   "cell_type": "code",
   "execution_count": 10,
   "metadata": {},
   "outputs": [],
   "source": [
    "import numpy as np"
   ]
  },
  {
   "attachments": {},
   "cell_type": "markdown",
   "metadata": {},
   "source": [
    "## Formula"
   ]
  },
  {
   "attachments": {},
   "cell_type": "markdown",
   "metadata": {},
   "source": [
    "$$ s_t \\leftarrow \\gamma s_{t-1} + (1-\\gamma)g_{t}^2$$\n",
    "$$x_t \\leftarrow x_{t-1} - \\frac{\\eta}{\\sqrt{s_t+\\epsilon}}g_t$$"
   ]
  },
  {
   "cell_type": "code",
   "execution_count": 11,
   "metadata": {},
   "outputs": [],
   "source": [
    "from lib.NeuralNet import *"
   ]
  },
  {
   "cell_type": "code",
   "execution_count": 12,
   "metadata": {},
   "outputs": [],
   "source": [
    "def OptimizerRMSProp(W1,b1,W2,b2,W3,b3,dW1,dB1,dW2,dB2,dW3,dB3,sW1,sb1,sW2,sb2,sW3,sb3,lr,gamma):\n",
    "    params = [W1,b1,W2,b2,W3,b3]\n",
    "    gradient = [dW1,dB1,dW2,dB2,dW3,dB3]\n",
    "    squared_grad = [sW1,sb1,sW2,sb2,sW3,sb3]\n",
    "    for i in range(6):\n",
    "        squared_grad[i] = gamma * squared_grad[i] + (1-gamma) * np.multiply(gradient[i],gradient[i])\n",
    "        params[i] = params[i] - lr / np.sqrt(squared_grad[i]+ 1e-6) * gradient[i]\n",
    "\n",
    "    W1,b1,W2,b2,W3,b3 = params\n",
    "    sW1,sb1,sW2,sb2,sW3,sb3 = squared_grad\n",
    "    return W1,b1,W2,b2,W3,b3, sW1,sb1,sW2,sb2,sW3,sb3\n",
    "        \n",
    "def UpdateParamsRMSProp(W1,b1,W2,b2,W3,b3,S,Y,batch_size=16,lr=1e-4,gamma=0.9):\n",
    "    n_samples = S.shape[0]\n",
    "    idx = np.arange(n_samples)\n",
    "    np.random.shuffle(idx)\n",
    "    S,Y = S[idx],Y[idx]\n",
    "    sW1,sb1,sW2,sb2,sW3,sb3 = np.zeros_like(W1),np.zeros_like(b1),np.zeros_like(W2),np.zeros_like(b2),np.zeros_like(W3),np.zeros_like(b3)\n",
    "    for i in np.arange(0, n_samples, batch_size):\n",
    "        begin, end = i, min(i + batch_size, n_samples)\n",
    "        s,y =  S[begin:end] , Y[begin:end]\n",
    "        O1,O2,O3 = Forward(W1,b1,W2,b2,W3,b3,s)\n",
    "        dW1,dB1,dW2,dB2,dW3,dB3 = Backward(W1,b1,W2,b2,W3,b3,s,y,O1,O2,O3,lr)\n",
    "        W1,b1,W2,b2,W3,b3,sW1,sb1,sW2,sb2,sW3,sb3 = OptimizerRMSProp(W1,b1,W2,b2,W3,b3,dW1,dB1,dW2,dB2,dW3,dB3,sW1,sb1,sW2,sb2,sW3,sb3,lr,gamma)\n",
    "    return W1,b1,W2,b2,W3,b3"
   ]
  },
  {
   "cell_type": "code",
   "execution_count": 14,
   "metadata": {},
   "outputs": [
    {
     "name": "stdout",
     "output_type": "stream",
     "text": [
      "Epoch  0 Loss:  0.08612876288593453\n",
      "Epoch  50 Loss:  0.06823586731352217\n",
      "Epoch  100 Loss:  0.04507614808739314\n",
      "Epoch  150 Loss:  0.02644300318559288\n",
      "Epoch  200 Loss:  0.027329853804781125\n",
      "Epoch  250 Loss:  0.03241643711353586\n",
      "Epoch  300 Loss:  0.016999447443468773\n",
      "Epoch  350 Loss:  0.010631198453384946\n",
      "Epoch  400 Loss:  0.010391278739140945\n",
      "Epoch  450 Loss:  0.009104279049593567\n",
      "Epoch  500 Loss:  0.008990371649658909\n",
      "Epoch  550 Loss:  0.0065293814284934585\n",
      "Epoch  600 Loss:  0.004335548441150926\n",
      "Epoch  650 Loss:  0.0047962382933476105\n",
      "Epoch  700 Loss:  0.004574945432002912\n",
      "Epoch  750 Loss:  0.0027180113731794476\n",
      "Epoch  800 Loss:  0.004590650217937459\n",
      "Epoch  850 Loss:  0.002691313760455305\n",
      "Epoch  900 Loss:  0.003216272895141981\n",
      "Epoch  950 Loss:  0.0020793639022202376\n"
     ]
    }
   ],
   "source": [
    "X = np.random.rand(5000,100)\n",
    "y = np.random.rand(5000,1)\n",
    "W1,b1,W2,b2,W3,b3 = FitModel(X,y,n_iter=1000,batch_size=500,lr=1e-3,UpdateParams=UpdateParamsRMSProp,print_stat=True)"
   ]
  }
 ],
 "metadata": {
  "kernelspec": {
   "display_name": "pytorchenv",
   "language": "python",
   "name": "python3"
  },
  "language_info": {
   "codemirror_mode": {
    "name": "ipython",
    "version": 3
   },
   "file_extension": ".py",
   "mimetype": "text/x-python",
   "name": "python",
   "nbconvert_exporter": "python",
   "pygments_lexer": "ipython3",
   "version": "3.9.15"
  },
  "orig_nbformat": 4
 },
 "nbformat": 4,
 "nbformat_minor": 2
}
