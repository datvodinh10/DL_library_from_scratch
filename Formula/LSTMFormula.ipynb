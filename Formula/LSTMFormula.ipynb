{
 "cells": [
  {
   "attachments": {},
   "cell_type": "markdown",
   "metadata": {},
   "source": [
    "## Theory"
   ]
  },
  {
   "attachments": {},
   "cell_type": "markdown",
   "metadata": {},
   "source": [
    "### Formula\n",
    "$$f_t = δ(W_f[h_{t-1},x_t]+b_f) $$\n",
    "$$i_t = δ(W_i[h_{t-1},x_t]+b_i) $$\n",
    "$$\\tilde{C}_t = tanh(W_c[h_{t-1},x_t]+b_C)$$\n",
    "$$C_t = f_t * C_{t-1} + i_t*\\tilde{C}_t$$\n",
    "$$o_t = δ(W_o[h_{t-1},x_t]+b_o) $$\n",
    "$$h_t = o_t * tanh(C_t)$$\n",
    "$$Loss: L = (h_t-y)^2$$"
   ]
  },
  {
   "attachments": {},
   "cell_type": "markdown",
   "metadata": {},
   "source": [
    "### Backward\n",
    "$$\\frac{d_{L}}{d_{h_t}} = h_t - y$$\n",
    "$$\\frac{d_{L}}{d_{o_t}} = \\frac{d_{L}}{d_{h_t}}tanh(C_t)$$\n",
    "$$\\frac{d_{L}}{d_{C_t}} =\\frac{d_{L}}{d_{h_t}} o_t * (1-tanh(C_t)^2)$$\n",
    "$$\\frac{d_{L}}{d_{f_t}} = \\frac{d_{L}}{d_{C_t}} \\frac{C_t}{d_{f_t}} = \\frac{d_{L}}{d_{C_t}} C_{t-1}$$\n",
    "$$\\frac{d_{L}}{d_{i_t}} = \\frac{d_{L}}{d_{C_t}} \\frac{C_t}{d_{i_t}} =  \\frac{d_{L}}{d_{C_t}} \\tilde{C}_t$$\n",
    "$$\\frac{d_L}{d_{\\tilde{C}_t}} = \\frac{d_{L}}{d_{C_t}} \\frac{C_t}{d_{\\tilde{C}_t}} = \\frac{d_{L}}{d_{C_t}} i_t $$\n",
    "$$\\frac{d_{L}}{d_{W_o}} = \\frac{d_{L}}{d_{o_t}} \\frac{o_t}{d_{W_o}} = \\frac{d_{L}}{d_{o_t}} o_t (1-o_t) [h_{t-1},x_t]$$\n",
    "$$\\frac{d_{L}}{d_{W_f}} = \\frac{d_{L}}{d_{f_t}} \\frac{f_t}{d_{W_f}} = \\frac{d_{L}}{d_{i_t}} f_t (1-f_t) [h_{t-1},x_t]$$\n",
    "$$\\frac{d_{L}}{d_{W_i}} = \\frac{d_{L}}{d_{i_t}} \\frac{i_t}{d_{W_i}} = \\frac{d_{L}}{d_{i_t}} i_t (1-i_t) [h_{t-1},x_t]$$\n",
    "$$\\frac{d_{L}}{d_{W_c}} = \\frac{d_{L}}{\\tilde{C}_t} \\frac{\\tilde{C}_t}{d_{W_c}} = \\frac{d_{L}}{\\tilde{C}_t} \\tilde{C}_t(1-\\tilde{C}_t) [h_{t-1},x_t]$$\n",
    "$$\\frac{d_{L}}{d_{b_o}} = \\frac{d_{L}}{d_{o_t}} \\frac{o_t}{d_{W_o}} = \\frac{d_{L}}{d_{o_t}} o_t (1-o_t)$$\n",
    "$$\\frac{d_{L}}{d_{b_f}} = \\frac{d_{L}}{d_{f_t}} \\frac{f_t}{d_{W_f}} = \\frac{d_{L}}{d_{i_t}} f_t (1-f_t)$$\n",
    "$$\\frac{d_{L}}{d_{b_i}} = \\frac{d_{L}}{d_{i_t}} \\frac{i_t}{d_{W_i}} = \\frac{d_{L}}{d_{i_t}} i_t (1-i_t)$$\n",
    "$$\\frac{d_{L}}{d_{b_c}} = \\frac{d_{L}}{\\tilde{C}_t} \\frac{\\tilde{C}_t}{d_{W_c}} = \\frac{d_{L}}{\\tilde{C}_t} \\tilde{C}_t(1-\\tilde{C}_t)$$\n",
    "\n",
    "\n"
   ]
  },
  {
   "attachments": {},
   "cell_type": "markdown",
   "metadata": {},
   "source": [
    "### Shape:\n",
    "#### N_in: num-features-in\n",
    "#### N_out: num-features-out\n",
    "#### N_t: num-timesteps\n",
    "$$x:  (N_t,N_i).$$\n",
    "$$y: (N_t,N_o).$$\n",
    "$$h: (N_t,N_o).$$\n",
    "$$C: (N_t,N_o).$$\n",
    "$$f,i,o: (N_t,N_o).$$\n",
    "$$W_f,W_i,W_o,W_C: (N_i+N_o,N_o)$$\n",
    "$$b_f,b_i,b_o,b_c: (1,N_o)$$\n"
   ]
  }
 ],
 "metadata": {
  "kernelspec": {
   "display_name": "pytorchenv",
   "language": "python",
   "name": "python3"
  },
  "language_info": {
   "codemirror_mode": {
    "name": "ipython",
    "version": 3
   },
   "file_extension": ".py",
   "mimetype": "text/x-python",
   "name": "python",
   "nbconvert_exporter": "python",
   "pygments_lexer": "ipython3",
   "version": "3.9.15"
  },
  "orig_nbformat": 4,
  "vscode": {
   "interpreter": {
    "hash": "5581cd8f8e7f555d1c7b7d5c73b743c62e9c35962a29bf47b3ccdfb22fa58433"
   }
  }
 },
 "nbformat": 4,
 "nbformat_minor": 2
}
