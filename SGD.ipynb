{
 "cells": [
  {
   "cell_type": "code",
   "execution_count": 10,
   "metadata": {},
   "outputs": [],
   "source": [
    "import numpy as np"
   ]
  },
  {
   "attachments": {},
   "cell_type": "markdown",
   "metadata": {},
   "source": [
    "## Formula"
   ]
  },
  {
   "attachments": {},
   "cell_type": "markdown",
   "metadata": {},
   "source": [
    "**Update**\n",
    "$${W^{[3]} = W^{[3]} - \\frac{d_\\text{L}}{{d_\\text{W3}}}}$$\n",
    "$${B^{[3]} = W^{[3]} - \\frac{d_\\text{L}}{{d_\\text{B3}}}}$$\n",
    "$${W^{[2]} = W^{[2]} - \\frac{d_\\text{L}}{{d_\\text{W2}}}}$$\n",
    "$${B^{[2]} = W^{[2]} - \\frac{d_\\text{L}}{{d_\\text{B2}}}}$$\n",
    "$${W^{[1]} = W^{[1]} - \\frac{d_\\text{L}}{{d_\\text{W1}}}}$$\n",
    "$${B^{[1]} = W^{[1]} - \\frac{d_\\text{L}}{{d_\\text{B1}}}}$$"
   ]
  },
  {
   "attachments": {},
   "cell_type": "markdown",
   "metadata": {},
   "source": [
    "## Code"
   ]
  },
  {
   "cell_type": "code",
   "execution_count": 11,
   "metadata": {},
   "outputs": [],
   "source": [
    "from lib.NeuralNet import *"
   ]
  },
  {
   "cell_type": "code",
   "execution_count": 12,
   "metadata": {},
   "outputs": [],
   "source": [
    "def OptimizerSGD(W1,b1,W2,b2,W3,b3,dW1,dB1,dW2,dB2,dW3,dB3,lr):\n",
    "    W1 = W1 - dW1*lr\n",
    "    b1 = b1 - dB1*lr\n",
    "    W2 = W2 - dW2*lr\n",
    "    b2 = b2 - dB2*lr\n",
    "    W3 = W3 - dW3*lr\n",
    "    b3 = b3 - dB3*lr\n",
    "    return W1,b1,W2,b2,W3,b3\n"
   ]
  },
  {
   "cell_type": "code",
   "execution_count": 13,
   "metadata": {},
   "outputs": [
    {
     "name": "stdout",
     "output_type": "stream",
     "text": [
      "Epoch  0 Loss:  0.09020452281482548\n",
      "Epoch  50 Loss:  0.08160223828110467\n",
      "Epoch  100 Loss:  0.07381463407055566\n",
      "Epoch  150 Loss:  0.08473748232119117\n",
      "Epoch  200 Loss:  0.05156241657927271\n",
      "Epoch  250 Loss:  0.03335757007240916\n",
      "Epoch  300 Loss:  0.07396464796092345\n",
      "Epoch  350 Loss:  0.019548474092522396\n",
      "Epoch  400 Loss:  0.011588176395091443\n",
      "Epoch  450 Loss:  0.01511343848373063\n",
      "Epoch  500 Loss:  0.010721316524764001\n",
      "Epoch  550 Loss:  0.003513300948592166\n",
      "Epoch  600 Loss:  0.004711807392669166\n",
      "Epoch  650 Loss:  0.004158106370916155\n",
      "Epoch  700 Loss:  0.002306861884930497\n",
      "Epoch  750 Loss:  0.0017771537852542352\n",
      "Epoch  800 Loss:  0.0007222702587072208\n",
      "Epoch  850 Loss:  0.0009343655717081195\n",
      "Epoch  900 Loss:  0.001018133964614446\n",
      "Epoch  950 Loss:  0.0007133533369908465\n"
     ]
    }
   ],
   "source": [
    "X = np.random.rand(5000,100)\n",
    "y = np.random.rand(5000,1)\n",
    "W1,b1,W2,b2,W3,b3 = FitModel(X,y,n_iter=1000,batch_size=500,lr=1e-3,optimizer=OptimizerSGD,print_stat=True)"
   ]
  }
 ],
 "metadata": {
  "kernelspec": {
   "display_name": "gymenv",
   "language": "python",
   "name": "python3"
  },
  "language_info": {
   "codemirror_mode": {
    "name": "ipython",
    "version": 3
   },
   "file_extension": ".py",
   "mimetype": "text/x-python",
   "name": "python",
   "nbconvert_exporter": "python",
   "pygments_lexer": "ipython3",
   "version": "3.9.15"
  },
  "orig_nbformat": 4
 },
 "nbformat": 4,
 "nbformat_minor": 2
}
