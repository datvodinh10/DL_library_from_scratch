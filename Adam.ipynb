{
 "cells": [
  {
   "cell_type": "code",
   "execution_count": 1,
   "metadata": {},
   "outputs": [],
   "source": [
    "import numpy as np"
   ]
  },
  {
   "attachments": {},
   "cell_type": "markdown",
   "metadata": {},
   "source": [
    "## Formula"
   ]
  },
  {
   "attachments": {},
   "cell_type": "markdown",
   "metadata": {},
   "source": [
    "$$ v_t = {\\beta}_{1} v_{t-1} + (1 - {\\beta}_{1})g_t$$\n",
    "$$ s_t = {\\beta}_{2} s_{t-1} + (1 - {\\beta}_{2})g_t^2$$\n",
    "$$\\hat{v}_{t} = \\frac{v_t}{1-{\\beta}_{1}^t} \\; and \\; \\hat{s}_{t} = \\frac{s_t}{1-{\\beta}_{2}^t}$$\n",
    "$$ \\hat{g}_t = \\frac {\\eta \\hat{v}_t}{\\sqrt{\\hat{s}_t}+\\epsilon}$$\n",
    "$$  x_t\\leftarrow x_{t-1} - \\hat{g}_t$$\n",
    "$$"
   ]
  }
 ],
 "metadata": {
  "kernelspec": {
   "display_name": "pytorchenv",
   "language": "python",
   "name": "python3"
  },
  "language_info": {
   "codemirror_mode": {
    "name": "ipython",
    "version": 3
   },
   "file_extension": ".py",
   "mimetype": "text/x-python",
   "name": "python",
   "nbconvert_exporter": "python",
   "pygments_lexer": "ipython3",
   "version": "3.9.15"
  },
  "orig_nbformat": 4
 },
 "nbformat": 4,
 "nbformat_minor": 2
}
